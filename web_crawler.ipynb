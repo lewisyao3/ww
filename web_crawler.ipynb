{
 "cells": [
  {
   "cell_type": "code",
   "execution_count": 80,
   "id": "93f1eebd-2142-4e1c-bd64-dedf6db9662c",
   "metadata": {},
   "outputs": [],
   "source": [
    "import requests\n",
    "from bs4 import BeautifulSoup"
   ]
  },
  {
   "cell_type": "code",
   "execution_count": 171,
   "id": "33c4bd07-c06d-488b-9235-f7f7f49e531c",
   "metadata": {},
   "outputs": [],
   "source": [
    "# 'data-testid' = 'title', 'address', 'distance', 'review-score', 'price-and-discounted-price'\n",
    "def parse_page(soup):\n",
    "    # hotels = []\n",
    "\n",
    "    titles = soup.find_all('div', {'data-testid': 'title'})\n",
    "    addresses = soup.find_all('span', {'data-testid': 'address'})\n",
    "    distances = soup.find_all('span', {'data-testid': 'distance'})\n",
    "    review_scores = soup.find_all('div', {'data-testid': 'review-score'})\n",
    "    scores = [_.findChildren('div', recursive=True)[0].text for _ in review_scores]\n",
    "    comments = [_.findChildren('div', recursive=True)[2].text for _ in review_scores]\n",
    "    prices = soup.find_all('span', {'data-testid': 'price-and-discounted-price'})\n",
    "\n",
    "    for t, a, d, s, c, p in zip(titles, addresses, distances, scores, comments, prices):\n",
    "        print(t.text, a.text, d.text, s, c, p.text)"
   ]
  },
  {
   "cell_type": "code",
   "execution_count": null,
   "id": "a57d2e13-fe9c-4ec9-a529-6cd287503d78",
   "metadata": {},
   "outputs": [],
   "source": [
    "# input\n",
    "# todo"
   ]
  },
  {
   "cell_type": "code",
   "execution_count": 120,
   "id": "8a52fc3c-0272-48be-a97e-3c5bfb3df649",
   "metadata": {},
   "outputs": [],
   "source": [
    "location, checkin, checkout = 'Taipei', '2023-12-21', '2023-12-23'"
   ]
  },
  {
   "cell_type": "code",
   "execution_count": 165,
   "id": "6489ba24-9ffc-48c3-a409-29ae5b537c1f",
   "metadata": {},
   "outputs": [
    {
     "name": "stdout",
     "output_type": "stream",
     "text": [
      "https://www.booking.com/searchresults.html?ss=Taipei&checkin=2023-12-21&checkout=2023-12-23\n"
     ]
    }
   ],
   "source": [
    "url = f'https://www.booking.com/searchresults.html?ss={location}&checkin={checkin}&checkout={checkout}'\n",
    "print(url)\n",
    "headers = {\n",
    "    'User-Agent': 'Mozilla/5.0 (X11; CrOS x86_64 8172.45.0) AppleWebKit/537.36 (KHTML, like Gecko) Chrome/51.0.2704.64 Safari/537.36',\n",
    "    'Accept-Language': 'en-US, en;q=0.5'\n",
    "}\n",
    "# https://www.kaggle.com/code/tatianakushniruk/web-scraping-booking-com-with-beautifulsoup\n",
    "response = requests.get(url, headers=headers)\n",
    "soup = BeautifulSoup(response.text, \"html.parser\")"
   ]
  },
  {
   "cell_type": "code",
   "execution_count": 172,
   "id": "33dc1faf-b17d-4b7e-9d69-6b461811d4fa",
   "metadata": {},
   "outputs": [
    {
     "name": "stdout",
     "output_type": "stream",
     "text": [
      "The Okura Prestige Taipei Zhongshan District, Taipei 0.9 km from center 8.9 Excellent  TWD 13,879\n",
      "苓旅中山館-Lininn ZhongShan Zhongshan District, Taipei 2.4 km from center 8.6 Excellent  TWD 5,260\n",
      "Sunrise Hotel Xinyi District, Taipei 5 km from center 7.8 Good  TWD 4,960\n",
      "Caesar Park Hotel Taipei Zhongzheng District, Taipei 150 m from center 8.0 Very Good  TWD 10,560\n",
      "Courtyard by Marriott Taipei Downtown Zhongshan District, Taipei 2.4 km from center 9.1 Wonderful  TWD 17,950\n",
      "Caesar Metro Taipei Wanhua District , Taipei 2.3 km from center 8.3 Very Good  TWD 11,200\n",
      "泊居旅店 Oursinn Hotel Zhongshan District, Taipei 1.3 km from center 7.2 Good  TWD 4,312\n",
      "Wonderwall Ximending Wanhua District , Taipei 1.1 km from center 8.6 Excellent  TWD 3,762\n",
      "New May Flower Hotel Zhongzheng District, Taipei 450 m from center 6.6 Review score  TWD 3,220\n",
      "Caesar Park Hotel Banqiao Banqiao, Taipei 6.7 km from center 8.8 Excellent  TWD 11,600\n",
      "The Landis Taipei Zhongshan District, Taipei 2.2 km from center 8.9 Excellent  TWD 13,306\n",
      "Taipei Marriott Hotel Zhongshan District, Taipei 5.7 km from center 8.6 Excellent  TWD 14,352\n",
      "Grand Mayfull Taipei Zhongshan District, Taipei 5.2 km from center 9.3 Wonderful  TWD 16,306\n",
      "W Taipei Xinyi District, Taipei 4.9 km from center 8.6 Excellent  TWD 28,500\n",
      "Hotel Sunroute Taipei Zhongshan District, Taipei 2 km from center 8.5 Very Good  TWD 7,695\n",
      "citizenM Taipei North Gate Ximending, Taipei 0.7 km from center 8.7 Excellent  TWD 11,200\n",
      "Grand HiLai Taipei Nangang District, Taipei 10.3 km from center 8.2 Very Good  TWD 16,604\n",
      "Renaissance Taipei Shihlin Hotel Shilin District , Taipei 5.3 km from center 8.5 Very Good  TWD 14,180\n",
      "Green World Sansui Zhongshan District, Taipei 2 km from center 7.6 Good  TWD 5,208\n",
      "Green World Flora Annex Zhongzheng District, Taipei 400 m from center 7.4 Good  TWD 7,821\n",
      "United Hotel Daan District, Taipei 4 km from center 8.2 Very Good  TWD 10,100\n",
      "KDM Hotel Daan District, Taipei 1.7 km from center 7.9 Good  TWD 6,894\n",
      "Hua Da Hotel- Nanxi Datong District , Taipei 1 km from center 7.8 Good  TWD 3,600\n",
      "Humble Boutique Hotel Zhongshan District, Taipei 1.6 km from center 8.7 Excellent  TWD 13,860\n",
      "Hotel Resonance Taipei, Tapestry Collection by Hilton Zhongzheng District, Taipei 0.6 km from center 9.2 Wonderful  TWD 18,983\n"
     ]
    }
   ],
   "source": [
    "parse_page(soup)"
   ]
  },
  {
   "cell_type": "code",
   "execution_count": 161,
   "id": "a32af8ee-642a-4cb9-b175-6f1d86468d77",
   "metadata": {},
   "outputs": [
    {
     "name": "stdout",
     "output_type": "stream",
     "text": [
      "Taipei: 471 properties found\n"
     ]
    }
   ],
   "source": [
    "number = soup.find_all('h1', {'aria-live': 'assertive'})[0].text\n",
    "print(number)"
   ]
  },
  {
   "cell_type": "code",
   "execution_count": null,
   "id": "da30e69d-3657-44a5-81d5-f8fc1c35ceb1",
   "metadata": {},
   "outputs": [],
   "source": [
    "# data-testid = 'title', 'address', 'distance', 'review-score', 'price-and-discounted-price'"
   ]
  },
  {
   "cell_type": "code",
   "execution_count": 149,
   "id": "a11105fc-5070-40c6-bb49-ef3f76b00b27",
   "metadata": {},
   "outputs": [],
   "source": [
    "addresses = soup.find_all('span', {'data-testid': 'address'})\n",
    "# for a in addresses:\n",
    "#     print(a.text)"
   ]
  },
  {
   "cell_type": "code",
   "execution_count": 164,
   "id": "96a926f5-32f2-4c10-84ae-f6ff228de810",
   "metadata": {},
   "outputs": [
    {
     "name": "stdout",
     "output_type": "stream",
     "text": [
      "8.9\n",
      "Excellent \n"
     ]
    }
   ],
   "source": [
    "review_scores = soup.find_all('div', {'data-testid': 'review-score'})\n",
    "print(review_scores[0].findChildren('div', recursive=True)[0].text)\n",
    "print(review_scores[0].findChildren('div', recursive=True)[2].text)\n",
    "# print(review_scores[0].findChildren('div', recursive=False)[1].findChildren('div', recursive=False)[0].text)"
   ]
  },
  {
   "cell_type": "code",
   "execution_count": 46,
   "id": "9fa0f8e3-03c2-41be-a4e8-8b09fe5fe5e3",
   "metadata": {},
   "outputs": [],
   "source": [
    "url = 'https://booking.com/destination'\n",
    "web = requests.get(url)                    # 取得網頁內容\n",
    "soup = bs(web.text, \"html.parser\")  # 轉換成標籤樹"
   ]
  },
  {
   "cell_type": "code",
   "execution_count": 47,
   "id": "b44452b2-ec8f-4080-9805-8a29fcfb58fc",
   "metadata": {},
   "outputs": [],
   "source": [
    "counties = soup.find_all('a', {\"class\": \"dest-sitemap__subsublist-link\"})"
   ]
  },
  {
   "cell_type": "code",
   "execution_count": 48,
   "id": "2cbfd13f-f42d-4b7e-85ac-508c32c4003c",
   "metadata": {},
   "outputs": [
    {
     "name": "stdout",
     "output_type": "stream",
     "text": [
      "https://booking.com/destination/country/xa.html\n"
     ]
    }
   ],
   "source": [
    "print('https://booking.com' + counties[0]['href'])"
   ]
  },
  {
   "cell_type": "code",
   "execution_count": 53,
   "id": "cf6dfae4-4319-4014-858b-52d24caf5d7a",
   "metadata": {},
   "outputs": [],
   "source": [
    "url = 'https://booking.com' + counties[0]['href']\n",
    "web = requests.get(url)                    # 取得網頁內容\n",
    "soup = bs(web.text, \"html.parser\")  # 轉換成標籤樹"
   ]
  },
  {
   "cell_type": "code",
   "execution_count": 54,
   "id": "12660c08-ce3b-4234-913c-c03cba611459",
   "metadata": {},
   "outputs": [],
   "source": [
    "cities = soup.find_all('a', {\"class\": \"dest-sitemap__subsublist-link\"})"
   ]
  },
  {
   "cell_type": "code",
   "execution_count": 56,
   "id": "c96e6327-33e2-4e91-be56-d8928f4d0309",
   "metadata": {},
   "outputs": [
    {
     "data": {
      "text/plain": [
       "'/city/xa/aatsi.html'"
      ]
     },
     "execution_count": 56,
     "metadata": {},
     "output_type": "execute_result"
    }
   ],
   "source": [
    "cities[0]['href']"
   ]
  },
  {
   "cell_type": "code",
   "execution_count": 58,
   "id": "97331903-877e-40b3-a02a-f0ff0cade4df",
   "metadata": {},
   "outputs": [],
   "source": [
    "url = 'https://booking.com' + cities[0]['href']\n",
    "web = requests.get(url)                    # 取得網頁內容\n",
    "soup = bs(web.text, \"html.parser\")  # 轉換成標籤樹"
   ]
  },
  {
   "cell_type": "code",
   "execution_count": 69,
   "id": "61c31b9b-ce64-4674-b603-0af977d210be",
   "metadata": {},
   "outputs": [],
   "source": [
    "hotels = soup.find_all('header', {\"class\": \"bui-spacer--medium\"})"
   ]
  },
  {
   "cell_type": "code",
   "execution_count": 71,
   "id": "00213dd5-ec2b-427a-bdb9-8394ffb0284e",
   "metadata": {},
   "outputs": [
    {
     "name": "stdout",
     "output_type": "stream",
     "text": [
      "/hotel/xa/guest-house-on-gagarina-10.html\n"
     ]
    }
   ],
   "source": [
    "print(hotels[0].findChildren('a', recursive=False)[0]['href'])"
   ]
  },
  {
   "cell_type": "code",
   "execution_count": 72,
   "id": "c0ea9783-0fee-40cb-82f4-57def3ac947b",
   "metadata": {},
   "outputs": [],
   "source": [
    "url = 'https://booking.com/' + hotels[0].findChildren('a', recursive=False)[0]['href']"
   ]
  },
  {
   "cell_type": "code",
   "execution_count": 75,
   "id": "4d707bad-818b-4f60-8d71-008da020a33a",
   "metadata": {},
   "outputs": [
    {
     "name": "stdout",
     "output_type": "stream",
     "text": [
      "https://booking.com//hotel/xa/guest-house-on-gagarina-10.html\n"
     ]
    }
   ],
   "source": [
    "print(url)"
   ]
  }
 ],
 "metadata": {
  "kernelspec": {
   "display_name": "Python 3 (ipykernel)",
   "language": "python",
   "name": "python3"
  },
  "language_info": {
   "codemirror_mode": {
    "name": "ipython",
    "version": 3
   },
   "file_extension": ".py",
   "mimetype": "text/x-python",
   "name": "python",
   "nbconvert_exporter": "python",
   "pygments_lexer": "ipython3",
   "version": "3.10.12"
  }
 },
 "nbformat": 4,
 "nbformat_minor": 5
}
